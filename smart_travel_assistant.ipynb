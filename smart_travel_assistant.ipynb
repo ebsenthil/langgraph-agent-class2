{
  "nbformat": 4,
  "nbformat_minor": 0,
  "metadata": {
    "colab": {
      "provenance": [],
      "authorship_tag": "ABX9TyMYUS2s2nWJ77Lfw1DG9QoW",
      "include_colab_link": true
    },
    "kernelspec": {
      "name": "python3",
      "display_name": "Python 3"
    },
    "language_info": {
      "name": "python"
    }
  },
  "cells": [
    {
      "cell_type": "markdown",
      "metadata": {
        "id": "view-in-github",
        "colab_type": "text"
      },
      "source": [
        "<a href=\"https://colab.research.google.com/github/ebsenthil/langgraph-agent-class2/blob/main/smart_travel_assistant.ipynb\" target=\"_parent\"><img src=\"https://colab.research.google.com/assets/colab-badge.svg\" alt=\"Open In Colab\"/></a>"
      ]
    },
    {
      "cell_type": "code",
      "source": [],
      "metadata": {
        "id": "tZ9g7QnHoqHD"
      },
      "execution_count": null,
      "outputs": []
    },
    {
      "cell_type": "code",
      "source": [
        "!pip install langchain_openai\n",
        "!pip install langchain_community\n",
        "!pip install pyowm\n",
        "!pip install langgraph\n",
        "!pip install tavily-python\n",
        "!pip install amadeus"
      ],
      "metadata": {
        "id": "LJDV4dOXngpY"
      },
      "execution_count": null,
      "outputs": []
    },
    {
      "cell_type": "code",
      "execution_count": 5,
      "metadata": {
        "id": "_UFJxCkdm3js"
      },
      "outputs": [],
      "source": [
        "from langchain.tools import tool\n",
        "import requests\n",
        "from datetime import datetime, timedelta\n",
        "import os"
      ]
    },
    {
      "cell_type": "code",
      "source": [
        "# Access the secret\n",
        "from google.colab import userdata\n",
        "\n",
        "tavily_api_key = userdata.get('TAVILY_API_KEY')\n",
        "openai_api_key = userdata.get('OPENAI_API_KEY')\n",
        "OPENWEATHERMAP_API_KEY=userdata.get('OPENWEATHERMAP_API_KEY')\n",
        "# Retrieve API Key securely (you can also use os.environ.get(\"TAVILY_API_KEY\") if running locally)\n",
        "TAVILY_API_KEY = userdata.get(\"TAVILY_API_KEY\")\n",
        "#Retrive API Key for Amadeus\n",
        "amadeus_api_key = userdata.get(\"AMADEUS_API_KEY\")\n",
        "amadeus_api_secret = userdata.get(\"AMADEUS_API_SECRET\")"
      ],
      "metadata": {
        "id": "LcgoMIuSnvdi"
      },
      "execution_count": 6,
      "outputs": []
    },
    {
      "cell_type": "code",
      "source": [
        "from langchain_openai import ChatOpenAI\n",
        "\n",
        "llm = ChatOpenAI(model=\"gpt-3.5-turbo\",api_key=openai_api_key)  # or \"gpt-3.5-turbo\"\n",
        "response = llm.invoke(\"hi\")\n",
        "print(response.content)"
      ],
      "metadata": {
        "colab": {
          "base_uri": "https://localhost:8080/"
        },
        "id": "Xf2gbgmXnblI",
        "outputId": "c65b739d-9181-4749-dd28-7898bbccf759"
      },
      "execution_count": 7,
      "outputs": [
        {
          "output_type": "stream",
          "name": "stdout",
          "text": [
            "Hello! How can I assist you today?\n"
          ]
        }
      ]
    },
    {
      "cell_type": "code",
      "source": [],
      "metadata": {
        "id": "fkAMtAgWxDXf"
      },
      "execution_count": null,
      "outputs": []
    },
    {
      "cell_type": "code",
      "source": [
        "@tool\n",
        "def get_weather_current(city:str) -> str:\n",
        "    \"\"\"\n",
        "    Provide weather forecast for a given city.\n",
        "    Args:\n",
        "        city (str): The name of the city to get the weather forecast for.\n",
        "    Returns:\n",
        "        str: The weather forecast for the specified city.\n",
        "    \"\"\"\n",
        "    return weather.run(city)\n",
        "\n",
        "\n",
        "\n",
        "@tool\n",
        "def get_weather_forcast(city: str, start: str, end: str) -> str:\n",
        "    \"\"\"\n",
        "    Fetches weather for a city from start to end dates using WeatherAPI.com.\n",
        "    - Uses forecast.json for ranges up to 14 days.\n",
        "    - Uses future.json per-day for dates 15–300 days ahead.\n",
        "    \"\"\"\n",
        "    # 🧾 1. Parse and validate dates\n",
        "    try:\n",
        "        s = datetime.strptime(start, \"%Y-%m-%d\").date()\n",
        "        e = datetime.strptime(end, \"%Y-%m-%d\").date()\n",
        "    except ValueError:\n",
        "        return \"❗ Invalid date format. Use YYYY-MM-DD.\"\n",
        "\n",
        "    if e < s:\n",
        "        return \"❗ End date must be same or after the start date.\"\n",
        "\n",
        "    weatherai_api_key=userdata.get(\"WEATHERAI_API_KEY\")\n",
        "    lines = []\n",
        "\n",
        "    # 📆 2. Use forecast.json for up to 14 days from today\n",
        "    today = datetime.today().date()\n",
        "    if s <= today + timedelta(days=13):\n",
        "        days_needed = min((e - s).days + 1, 14)\n",
        "        url = \"http://api.weatherapi.com/v1/forecast.json\"\n",
        "        params = {\"key\": weatherai_api_key, \"q\": city, \"days\": days_needed, \"aqi\": \"no\", \"alerts\": \"no\"}\n",
        "        resp = requests.get(url, params=params)\n",
        "        if resp.status_code != 200:\n",
        "            return f\"API error {resp.status_code}: {resp.text}\"\n",
        "        data = resp.json()\n",
        "        for day in data.get(\"forecast\", {}).get(\"forecastday\", []):\n",
        "            date = day[\"date\"]\n",
        "            cond = day[\"day\"][\"condition\"][\"text\"]\n",
        "            icon = \"https:\" + day[\"day\"][\"condition\"][\"icon\"]\n",
        "            maxt = day[\"day\"][\"maxtemp_c\"]\n",
        "            mint = day[\"day\"][\"mintemp_c\"]\n",
        "            if s <= datetime.strptime(date, \"%Y-%m-%d\").date() <= e:\n",
        "                lines.append(f\"{date}: {cond}, High: {maxt}°C, Low: {mint}°C, Icon: {icon}\")\n",
        "\n",
        "    # 🔭 3. Use future.json for dates >14 days ahead\n",
        "    cursor = max(s, today + timedelta(days=14))\n",
        "    while cursor <= e and (cursor - today).days <= 300:\n",
        "        url = \"http://api.weatherapi.com/v1/future.json\"\n",
        "        params = {\"key\": weatherai_api_key, \"q\": city, \"dt\": cursor.isoformat()}\n",
        "        resp = requests.get(url, params=params)\n",
        "        if resp.status_code != 200:\n",
        "            lines.append(f\"{cursor}: API error {resp.status_code}\")\n",
        "        else:\n",
        "            day = resp.json().get(\"forecast\", {}).get(\"forecastday\", [{}])[0]\n",
        "            cond = day[\"day\"][\"condition\"][\"text\"]\n",
        "            icon = \"https:\" + day[\"day\"][\"condition\"][\"icon\"]\n",
        "            maxt = day[\"day\"][\"maxtemp_c\"]\n",
        "            mint = day[\"day\"][\"mintemp_c\"]\n",
        "            lines.append(f\"{cursor}: {cond}, High: {maxt}°C, Low: {mint}°C, Icon: {icon}\")\n",
        "        cursor += timedelta(days=1)\n",
        "\n",
        "    if not lines:\n",
        "        return f\"No forecastable dates in range {start} to {end} (max 300 days ahead).\"\n",
        "\n",
        "    return \"\\n\".join(lines)\n",
        "\n",
        "\n",
        "\n"
      ],
      "metadata": {
        "id": "kfatEG82pwnu"
      },
      "execution_count": 8,
      "outputs": []
    },
    {
      "cell_type": "code",
      "source": [
        "# Tavily tool\n",
        "from tavily import TavilyClient\n",
        "\n",
        "client = TavilyClient(api_key=TAVILY_API_KEY)\n",
        "\n",
        "@tool\n",
        "def search_top_attractions(city: str) -> str:\n",
        "    \"\"\"\n",
        "    Search top attractions and activities in a city using Tavily Search API.\n",
        "    Returns a summary string.\n",
        "    \"\"\"\n",
        "    query = f\"Top five tourist attractions and top five activities in {city}\"\n",
        "    try:\n",
        "        response = client.search(query=query, search_depth=\"advanced\", include_answer=True)\n",
        "        return response.get(\"answer\", \"No summary available.\")\n",
        "    except Exception as e:\n",
        "        return f\"Error during search: {e}\"\n"
      ],
      "metadata": {
        "id": "3WwjSE6wxH6K"
      },
      "execution_count": 9,
      "outputs": []
    },
    {
      "cell_type": "code",
      "source": [
        "from google.colab import userdata # We can use this to explicitly verify, though os.getenv usually works\n",
        "from langchain.tools import tool\n",
        "import requests\n",
        "import os\n",
        "\n",
        "# Load API key from .env file\n",
        "EXCHANGE_API_KEY = userdata.get(\"EXCHANGE_API_KEY\")\n",
        "\n",
        "@tool\n",
        "def convert_currency(amount: float, from_currency: str, to_currency: str) -> str:\n",
        "    \"\"\"\n",
        "    Converts the specified amount from one currency to another using ExchangeRate-API.\n",
        "\n",
        "    Parameters:\n",
        "    - amount: Amount to convert (e.g., 100)\n",
        "    - from_currency: Base currency code (e.g., \"USD\")\n",
        "    - to_currency: Target currency code (e.g., \"INR\")\n",
        "\n",
        "    Returns:\n",
        "    - A string with the converted amount.\n",
        "    \"\"\"\n",
        "    try:\n",
        "        url = f\"https://v6.exchangerate-api.com/v6/{EXCHANGE_API_KEY}/pair/{from_currency}/{to_currency}/{amount}\"\n",
        "        response = requests.get(url)\n",
        "        data = response.json()\n",
        "\n",
        "        if data[\"result\"] == \"success\":\n",
        "            converted = data[\"conversion_result\"]\n",
        "            rate = data[\"conversion_rate\"]\n",
        "            return f\"{amount} {from_currency} = {converted:.2f} {to_currency} (Rate: {rate})\"\n",
        "        else:\n",
        "            return f\"❌ Error: {data.get('error-type', 'Unknown error')}\"\n",
        "    except Exception as e:\n",
        "        return f\"❌ Exception: {str(e)}\"\n"
      ],
      "metadata": {
        "id": "B9eFOjzaZAT3"
      },
      "execution_count": 10,
      "outputs": []
    },
    {
      "cell_type": "code",
      "source": [
        "from amadeus import Client, ResponseError\n",
        "import os\n",
        "from datetime import date, timedelta, datetime\n",
        "import json\n",
        "\n",
        "\n",
        "amadeus = Client(\n",
        "    client_id=amadeus_api_key,\n",
        "    client_secret=amadeus_api_secret\n",
        ")\n",
        "\n",
        "@tool\n",
        "def search_hotels(city_code: str, checkin: str, checkout: str, adults: int = 1) -> str:\n",
        "    \"\"\"\n",
        "    Search hotels in a city for given date range using Amadeus API.\n",
        "\n",
        "    Args:\n",
        "        city_code: IATA city code (e.g., 'NYC', 'PAR', 'LON')\n",
        "        checkin: Check-in date in YYYY-MM-DD format\n",
        "        checkout: Check-out date in YYYY-MM-DD format\n",
        "        adults: Number of adults (default: 1)\n",
        "\n",
        "    Returns:\n",
        "        Formatted string of hotel options with prices\n",
        "    \"\"\"\n",
        "    try:\n",
        "        # Validate date format\n",
        "        datetime.strptime(checkin, '%Y-%m-%d')\n",
        "        datetime.strptime(checkout, '%Y-%m-%d')\n",
        "\n",
        "        # First get hotels in the city\n",
        "        hotels_response = amadeus.reference_data.locations.hotels.by_city.get(\n",
        "            cityCode=city_code\n",
        "        )\n",
        "\n",
        "        if not hotels_response.data:\n",
        "            return f\"No hotels found in {city_code}\"\n",
        "\n",
        "        # Get hotel IDs from more hotels to increase chances of getting offers\n",
        "        hotel_ids = [hotel['hotelId'] for hotel in hotels_response.data[:30]]\n",
        "\n",
        "        # Try searching all hotels at once first\n",
        "        try:\n",
        "            response = amadeus.shopping.hotel_offers_search.get(\n",
        "                hotelIds=','.join(hotel_ids),\n",
        "                checkInDate=checkin,\n",
        "                checkOutDate=checkout,\n",
        "                adults=adults,\n",
        "                roomQuantity=1\n",
        "            )\n",
        "\n",
        "            if response.data and len(response.data) > 1:\n",
        "                # If we got multiple results, use them\n",
        "                all_offers = response.data\n",
        "            else:\n",
        "                # If only one or no results, try batch approach\n",
        "                all_offers = []\n",
        "                batch_size = 5  # Smaller batches\n",
        "\n",
        "                for i in range(0, min(len(hotel_ids), 15), batch_size):  # Try first 15 hotels\n",
        "                    batch_ids = hotel_ids[i:i+batch_size]\n",
        "                    try:\n",
        "                        batch_response = amadeus.shopping.hotel_offers_search.get(\n",
        "                            hotelIds=','.join(batch_ids),\n",
        "                            checkInDate=checkin,\n",
        "                            checkOutDate=checkout,\n",
        "                            adults=adults,\n",
        "                            roomQuantity=1\n",
        "                        )\n",
        "                        if batch_response.data:\n",
        "                            all_offers.extend(batch_response.data)\n",
        "                    except ResponseError as batch_error:\n",
        "                        continue\n",
        "\n",
        "        except ResponseError as error:\n",
        "            # If bulk search fails, try batch approach\n",
        "            all_offers = []\n",
        "            batch_size = 5\n",
        "\n",
        "            for i in range(0, min(len(hotel_ids), 15), batch_size):\n",
        "                batch_ids = hotel_ids[i:i+batch_size]\n",
        "                try:\n",
        "                    batch_response = amadeus.shopping.hotel_offers_search.get(\n",
        "                        hotelIds=','.join(batch_ids),\n",
        "                        checkInDate=checkin,\n",
        "                        checkOutDate=checkout,\n",
        "                        adults=adults,\n",
        "                        roomQuantity=1\n",
        "                    )\n",
        "                    if batch_response.data:\n",
        "                        all_offers.extend(batch_response.data)\n",
        "                except ResponseError as batch_error:\n",
        "                    continue\n",
        "\n",
        "        if not all_offers:\n",
        "            return f\"No hotel offers available in {city_code} for {checkin} to {checkout}. This might be due to high demand, booking restrictions, or limited availability for the selected dates.\"\n",
        "\n",
        "        # Use all_offers instead of response.data\n",
        "        response = type('MockResponse', (), {'data': all_offers})()\n",
        "\n",
        "        if not response.data:\n",
        "            return f\"No hotels found in {city_code} for {checkin} to {checkout}\"\n",
        "\n",
        "        hotels = response.data[:10]  # Top 10 results instead of 5\n",
        "        result = []\n",
        "\n",
        "        for i, hotel in enumerate(hotels, 1):\n",
        "            try:\n",
        "                hotel_info = hotel['hotel']\n",
        "                name = hotel_info.get('name', 'Unknown Hotel')\n",
        "\n",
        "                # Get best offer\n",
        "                offers = hotel.get('offers', [])\n",
        "                if offers:\n",
        "                    best_offer = offers[0]\n",
        "                    price_info = best_offer.get('price', {})\n",
        "                    total_price = price_info.get('total', 'N/A')\n",
        "                    currency = price_info.get('currency', '')\n",
        "\n",
        "                    # Get room details\n",
        "                    room_info = best_offer.get('room', {})\n",
        "                    room_type = room_info.get('typeEstimated', {}).get('category', 'Standard')\n",
        "\n",
        "                    # Rating if available\n",
        "                    rating = hotel_info.get('rating', 'Not rated')\n",
        "\n",
        "                    result.append(\n",
        "                        f\"{i}. {name}\\n\"\n",
        "                        f\"   Price: {total_price} {currency}\\n\"\n",
        "                        f\"   Room: {room_type}\\n\"\n",
        "                        f\"   Rating: {rating}\\n\"\n",
        "                    )\n",
        "                else:\n",
        "                    result.append(f\"{i}. {name} - No offers available\\n\")\n",
        "\n",
        "            except KeyError as e:\n",
        "                result.append(f\"{i}. Hotel data incomplete - {str(e)}\\n\")\n",
        "\n",
        "        return \"\\n\".join(result)\n",
        "\n",
        "    except ResponseError as error:\n",
        "        return f\"Amadeus API Error: {error.response.body}\"\n",
        "    except ValueError as e:\n",
        "        return f\"Date format error: {str(e)}. Use YYYY-MM-DD format.\"\n",
        "    except Exception as e:\n",
        "        return f\"Error fetching hotel info: {str(e)}\""
      ],
      "metadata": {
        "id": "n7g-VdH8GQwQ"
      },
      "execution_count": 11,
      "outputs": []
    },
    {
      "cell_type": "code",
      "source": [
        "\n",
        "from langchain_community.utilities import OpenWeatherMapAPIWrapper\n",
        "weather = OpenWeatherMapAPIWrapper(openweathermap_api_key=OPENWEATHERMAP_API_KEY)"
      ],
      "metadata": {
        "id": "yD_3nsUUx83t"
      },
      "execution_count": 12,
      "outputs": []
    },
    {
      "cell_type": "code",
      "source": [
        "weather_data = weather.run(\"bangalore,IN\")\n",
        "print(weather_data)"
      ],
      "metadata": {
        "colab": {
          "base_uri": "https://localhost:8080/"
        },
        "id": "4bZGgC1vpqpO",
        "outputId": "45ee3d16-f70b-4fab-af31-48ce2a1ea259"
      },
      "execution_count": 13,
      "outputs": [
        {
          "output_type": "stream",
          "name": "stdout",
          "text": [
            "In bangalore,IN, the current weather is as follows:\n",
            "Detailed status: broken clouds\n",
            "Wind speed: 5.14 m/s, direction: 230°\n",
            "Humidity: 89%\n",
            "Temperature: \n",
            "  - Current: 21.5°C\n",
            "  - High: 21.94°C\n",
            "  - Low: 20.62°C\n",
            "  - Feels like: 22.03°C\n",
            "Rain: {}\n",
            "Heat index: None\n",
            "Cloud cover: 75%\n"
          ]
        }
      ]
    },
    {
      "cell_type": "code",
      "source": [
        "tools = [get_weather_current,get_weather_forcast,search_top_attractions,search_hotels,convert_currency]\n",
        "llm_with_tools=llm.bind_tools(tools)"
      ],
      "metadata": {
        "id": "MGVp7irfqe6d"
      },
      "execution_count": 14,
      "outputs": []
    },
    {
      "cell_type": "code",
      "source": [
        "response=llm_with_tools.invoke(\"find hotel in chennai for sep 10th 2025\")"
      ],
      "metadata": {
        "id": "KQH_IqqhqmZn"
      },
      "execution_count": 15,
      "outputs": []
    },
    {
      "cell_type": "code",
      "source": [
        "response.content"
      ],
      "metadata": {
        "colab": {
          "base_uri": "https://localhost:8080/",
          "height": 35
        },
        "id": "NomJ5zAfqpiG",
        "outputId": "f7bf9696-d912-4fca-b70e-5ed81d69a8da"
      },
      "execution_count": 16,
      "outputs": [
        {
          "output_type": "execute_result",
          "data": {
            "text/plain": [
              "''"
            ],
            "application/vnd.google.colaboratory.intrinsic+json": {
              "type": "string"
            }
          },
          "metadata": {},
          "execution_count": 16
        }
      ]
    },
    {
      "cell_type": "code",
      "source": [
        "response.tool_calls"
      ],
      "metadata": {
        "colab": {
          "base_uri": "https://localhost:8080/"
        },
        "id": "cHuIXYoBqr1_",
        "outputId": "1e476e73-ef81-4d48-ab3d-4da65d511b5f"
      },
      "execution_count": 17,
      "outputs": [
        {
          "output_type": "execute_result",
          "data": {
            "text/plain": [
              "[{'name': 'search_hotels',\n",
              "  'args': {'city_code': 'MAA',\n",
              "   'checkin': '2025-09-10',\n",
              "   'checkout': '2025-09-11'},\n",
              "  'id': 'call_KVEEdEMGxn3O6pTJs88oYAaG',\n",
              "  'type': 'tool_call'}]"
            ]
          },
          "metadata": {},
          "execution_count": 17
        }
      ]
    },
    {
      "cell_type": "code",
      "source": [
        "SYSTEM_PROMPT=\"You are a helpful assistant tasked with providing current weather information on specific city in a given country code or provide weather forecast for specific city in specific date range which is in the format of YYYY-MM-DD.Also if you need to provide top tourist attractions, major recreational activities for tourists, provide details of major restaurants when user asks such questions. Search hotel for the date range in the city and provide recommendations as per the user ask. Also you may need to provide currency conversion as well and provide complete travel summary that includes hotel cost and other expenses. Also you need to prepare iternarary if user asks for travel plan\""
      ],
      "metadata": {
        "id": "AteUYK33q0pm"
      },
      "execution_count": null,
      "outputs": []
    },
    {
      "cell_type": "code",
      "source": [
        "SYSTEM_PROMPT = \"\"\"\n",
        "You are a helpful and knowledgeable travel assistant. Your primary responsibility is to provide users with accurate, timely, and contextual travel-related information and services. Your capabilities include:\n",
        "\n",
        "1. **Weather Information**:\n",
        "   - Provide current weather conditions for a given city and country code.\n",
        "   - Offer weather forecasts for a specific city within a given date range (format: YYYY-MM-DD).\n",
        "\n",
        "2. **Tourist Attractions & Activities**:\n",
        "   - Suggest the top tourist attractions in a specified city.\n",
        "   - Recommend major recreational and cultural activities suitable for tourists.\n",
        "\n",
        "3. **Restaurant Recommendations**:\n",
        "   - Provide details about top-rated restaurants in the city, including cuisine type and suitability for different preferences (e.g., vegetarian, budget-friendly, luxury dining).\n",
        "\n",
        "4. **Hotel Search & Recommendations**:\n",
        "   - Search for available hotels in a city within a given check-in and check-out date.\n",
        "   - Include hotel name, price, rating, room type, and location.\n",
        "   - Tailor recommendations based on user criteria (budget, rating, etc.).\n",
        "\n",
        "5. **Currency Conversion**:\n",
        "   - Convert amounts between different currencies using up-to-date exchange rates when requested.\n",
        "\n",
        "6. **Travel Itinerary Generation**:\n",
        "   - Generate a detailed multi-day travel itinerary based on user preferences, including:\n",
        "     - Daily plans with activities and attractions\n",
        "     - Hotel check-in/check-out details\n",
        "     - Suggestions for meals and free time\n",
        "\n",
        "7. **Travel Summary**:\n",
        "   - Provide a summarized travel plan that includes:\n",
        "     - Estimated hotel costs\n",
        "     - Activity and entry fees (if available)\n",
        "     - Estimated food and local transportation expenses\n",
        "     - Total estimated cost in user’s preferred currency\n",
        "\n",
        "You must be context-aware, follow user instructions accurately, and always format responses in a clear and user-friendly way. If any required information is missing, kindly ask the user for clarification.\n",
        "\"\"\"\n"
      ],
      "metadata": {
        "id": "M7dCmgpc6PAY"
      },
      "execution_count": 18,
      "outputs": []
    },
    {
      "cell_type": "code",
      "source": [
        "from langchain_core.messages import HumanMessage, SystemMessage\n",
        "from langgraph.graph import MessagesState,StateGraph, END, START"
      ],
      "metadata": {
        "id": "KqY46f6vq4Ih"
      },
      "execution_count": 19,
      "outputs": []
    },
    {
      "cell_type": "code",
      "source": [
        "def function_1(state:MessagesState):\n",
        "\n",
        "    user_question=state[\"messages\"]\n",
        "\n",
        "    input_question = [SYSTEM_PROMPT]+user_question\n",
        "\n",
        "    response = llm_with_tools.invoke(input_question)\n",
        "\n",
        "    return {\n",
        "        \"messages\":[response]\n",
        "    }"
      ],
      "metadata": {
        "id": "9kkGxRPUrI2e"
      },
      "execution_count": 20,
      "outputs": []
    },
    {
      "cell_type": "code",
      "source": [
        "builder=StateGraph(MessagesState)\n",
        "builder.add_node(\"llm_decision_step\",function_1)"
      ],
      "metadata": {
        "colab": {
          "base_uri": "https://localhost:8080/"
        },
        "id": "OOBhMsTJrLet",
        "outputId": "2be4fb09-b9bd-42ed-adaa-71f563d80e87"
      },
      "execution_count": 21,
      "outputs": [
        {
          "output_type": "execute_result",
          "data": {
            "text/plain": [
              "<langgraph.graph.state.StateGraph at 0x7ed2be46b590>"
            ]
          },
          "metadata": {},
          "execution_count": 21
        }
      ]
    },
    {
      "cell_type": "code",
      "source": [
        "from langgraph.prebuilt import ToolNode\n",
        "builder.add_node(\"tools\",ToolNode(tools))"
      ],
      "metadata": {
        "colab": {
          "base_uri": "https://localhost:8080/"
        },
        "id": "8VYhPtVtrO2W",
        "outputId": "6641a85b-814e-4f62-d5b9-9b25ee223d10"
      },
      "execution_count": 22,
      "outputs": [
        {
          "output_type": "execute_result",
          "data": {
            "text/plain": [
              "<langgraph.graph.state.StateGraph at 0x7ed2be46b590>"
            ]
          },
          "metadata": {},
          "execution_count": 22
        }
      ]
    },
    {
      "cell_type": "code",
      "source": [
        "builder.add_edge(START,\"llm_decision_step\")"
      ],
      "metadata": {
        "colab": {
          "base_uri": "https://localhost:8080/"
        },
        "id": "_ljB-5QyrT4-",
        "outputId": "ad4e0db5-86b6-42dd-81c4-29ebf2f50407"
      },
      "execution_count": 23,
      "outputs": [
        {
          "output_type": "execute_result",
          "data": {
            "text/plain": [
              "<langgraph.graph.state.StateGraph at 0x7ed2be46b590>"
            ]
          },
          "metadata": {},
          "execution_count": 23
        }
      ]
    },
    {
      "cell_type": "code",
      "source": [
        "from langgraph.prebuilt import tools_condition\n",
        "builder.add_conditional_edges(\n",
        "    \"llm_decision_step\",\n",
        "    tools_condition,\n",
        ")"
      ],
      "metadata": {
        "colab": {
          "base_uri": "https://localhost:8080/"
        },
        "id": "gz0B1RHIrZpO",
        "outputId": "1c214056-305e-43ef-aca8-dda8d0d21761"
      },
      "execution_count": 24,
      "outputs": [
        {
          "output_type": "execute_result",
          "data": {
            "text/plain": [
              "<langgraph.graph.state.StateGraph at 0x7ed2be46b590>"
            ]
          },
          "metadata": {},
          "execution_count": 24
        }
      ]
    },
    {
      "cell_type": "code",
      "source": [
        "builder.add_edge(\"tools\",\"llm_decision_step\")"
      ],
      "metadata": {
        "colab": {
          "base_uri": "https://localhost:8080/"
        },
        "id": "MSDZWumbreX2",
        "outputId": "40309ddf-223c-4852-a5bc-4e16cd0ebdce"
      },
      "execution_count": 25,
      "outputs": [
        {
          "output_type": "execute_result",
          "data": {
            "text/plain": [
              "<langgraph.graph.state.StateGraph at 0x7ed2be46b590>"
            ]
          },
          "metadata": {},
          "execution_count": 25
        }
      ]
    },
    {
      "cell_type": "code",
      "source": [
        "react_graph=builder.compile()"
      ],
      "metadata": {
        "id": "3MbGtxRergfe"
      },
      "execution_count": 26,
      "outputs": []
    },
    {
      "cell_type": "code",
      "source": [
        "from IPython.display import Image, display\n",
        "display(Image(react_graph.get_graph().draw_mermaid_png()))"
      ],
      "metadata": {
        "colab": {
          "base_uri": "https://localhost:8080/",
          "height": 266
        },
        "id": "PSC-Ugvqrj6e",
        "outputId": "f801cb71-243b-48e3-8317-db5c72107aa7"
      },
      "execution_count": 27,
      "outputs": [
        {
          "output_type": "display_data",
          "data": {
            "image/png": "[encoded data removed]",
            "text/plain": [
              "<IPython.core.display.Image object>"
            ]
          },
          "metadata": {}
        }
      ]
    },
    {
      "cell_type": "code",
      "source": [
        "message=[HumanMessage(content=\"I need to travel from chennai to Mumbai on 11th august 2025 for 2 days with my wife , can I travel, weather is ok?, what can I do there and where can I stay, provide me complete travel plan. \")]"
      ],
      "metadata": {
        "id": "JES6K9Nbrodq"
      },
      "execution_count": 32,
      "outputs": []
    },
    {
      "cell_type": "code",
      "source": [
        "weather_result=react_graph.invoke({\"messages\":message})"
      ],
      "metadata": {
        "id": "w-But4jnrtTQ"
      },
      "execution_count": 34,
      "outputs": []
    },
    {
      "cell_type": "code",
      "source": [
        "weather_result"
      ],
      "metadata": {
        "colab": {
          "base_uri": "https://localhost:8080/"
        },
        "id": "f-dbBBOTr1Bz",
        "outputId": "23979d9a-0fd6-46a0-d6c8-85a48c2a5c33"
      },
      "execution_count": 35,
      "outputs": [
        {
          "output_type": "execute_result",
          "data": {
            "text/plain": [
              "{'messages': [HumanMessage(content='I need to travel from chennai to Mumbai on 11th august 2025 for 2 days with my wife , can I travel, weather is ok?, what can I do there and where can I stay, provide me complete travel plan. ', additional_kwargs={}, response_metadata={}, id='acebf7ea-4be2-4739-8886-7b068fa66103'),\n",
              "  AIMessage(content='', additional_kwargs={'tool_calls': [{'id': 'call_8RohMzPTeWDFHCI0DMEFLm2g', 'function': {'arguments': '{\"city\": \"Mumbai\", \"start\": \"2025-08-11\", \"end\": \"2025-08-12\"}', 'name': 'get_weather_forcast'}, 'type': 'function'}, {'id': 'call_spljvNkIUNrTmCKIheYclxfo', 'function': {'arguments': '{\"city\": \"Mumbai\"}', 'name': 'search_top_attractions'}, 'type': 'function'}, {'id': 'call_HBZI2SLqcZrySWFRGAIJG0bF', 'function': {'arguments': '{\"city_code\": \"BOM\", \"checkin\": \"2025-08-11\", \"checkout\": \"2025-08-13\", \"adults\": 2}', 'name': 'search_hotels'}, 'type': 'function'}], 'refusal': None}, response_metadata={'token_usage': {'completion_tokens': 108, 'prompt_tokens': 852, 'total_tokens': 960, 'completion_tokens_details': {'accepted_prediction_tokens': 0, 'audio_tokens': 0, 'reasoning_tokens': 0, 'rejected_prediction_tokens': 0}, 'prompt_tokens_details': {'audio_tokens': 0, 'cached_tokens': 0}}, 'model_name': 'gpt-3.5-turbo-0125', 'system_fingerprint': None, 'id': 'chatcmpl-Bjd3x8N6eHzkTSnqCPIzQM3yUVmB9', 'service_tier': 'default', 'finish_reason': 'tool_calls', 'logprobs': None}, id='run--35799c1d-5e42-4d0d-8c24-e4d6496c220b-0', tool_calls=[{'name': 'get_weather_forcast', 'args': {'city': 'Mumbai', 'start': '2025-08-11', 'end': '2025-08-12'}, 'id': 'call_8RohMzPTeWDFHCI0DMEFLm2g', 'type': 'tool_call'}, {'name': 'search_top_attractions', 'args': {'city': 'Mumbai'}, 'id': 'call_spljvNkIUNrTmCKIheYclxfo', 'type': 'tool_call'}, {'name': 'search_hotels', 'args': {'city_code': 'BOM', 'checkin': '2025-08-11', 'checkout': '2025-08-13', 'adults': 2}, 'id': 'call_HBZI2SLqcZrySWFRGAIJG0bF', 'type': 'tool_call'}], usage_metadata={'input_tokens': 852, 'output_tokens': 108, 'total_tokens': 960, 'input_token_details': {'audio': 0, 'cache_read': 0}, 'output_token_details': {'audio': 0, 'reasoning': 0}}),\n",
              "  ToolMessage(content='2025-08-11: Moderate or heavy rain shower, High: 28.5°C, Low: 26.2°C, Icon: https://cdn.weatherapi.com/weather/64x64/day/356.png\\n2025-08-12: Moderate or heavy rain shower, High: 28.6°C, Low: 26.1°C, Icon: https://cdn.weatherapi.com/weather/64x64/day/356.png', name='get_weather_forcast', id='68012227-1ac7-4baf-92c7-de0ca7b5f710', tool_call_id='call_8RohMzPTeWDFHCI0DMEFLm2g'),\n",
              "  ToolMessage(content='Top tourist attractions in Mumbai: Gateway of India, Marine Drive, Chhatrapati Shivaji Terminus, Elephanta Caves, Bandra Worli Sea Link. Top activities: sightseeing, beach visits, cultural tours, shopping, and dining.', name='search_top_attractions', id='40272ad8-1313-48a5-b969-861d21bd50c7', tool_call_id='call_spljvNkIUNrTmCKIheYclxfo'),\n",
              "  ToolMessage(content='1. HOLIDAY INN MUMBAI INTL ARPT\\n   Price: 21147.96 INR\\n   Room: STANDARD_ROOM\\n   Rating: Not rated\\n\\n2. The Westin Mumbai Garden City\\n   Price: 44250.00 INR\\n   Room: DELUXE_ROOM\\n   Rating: Not rated\\n', name='search_hotels', id='0a46d411-750d-45cf-9e22-6a9aaa4501e2', tool_call_id='call_HBZI2SLqcZrySWFRGAIJG0bF'),\n",
              "  AIMessage(content='### Travel Plan for Chennai to Mumbai Trip on August 11-13, 2025\\n\\n#### Weather Forecast:\\n- **August 11, 2025:** Moderate or heavy rain shower, High: 28.5°C, Low: 26.2°C\\n- **August 12, 2025:** Moderate or heavy rain shower, High: 28.6°C, Low: 26.1°C\\n\\n#### Things to Do in Mumbai:\\n- **Top Tourist Attractions:** Gateway of India, Marine Drive, Chhatrapati Shivaji Terminus, Elephanta Caves, Bandra Worli Sea Link\\n- **Top Activities:** Sightseeing, Beach visits, Cultural tours, Shopping, Dining\\n\\n#### Hotel Options:\\n1. **Holiday Inn Mumbai International Airport**\\n   - Price: 21147.96 INR\\n   - Room: Standard Room\\n   - Rating: Not rated\\n\\n2. **The Westin Mumbai Garden City**\\n   - Price: 44250.00 INR\\n   - Room: Deluxe Room\\n   - Rating: Not rated\\n\\n### Conclusion:\\n- The weather in Mumbai on the specified dates might have rain showers.\\n- You can visit popular attractions like Gateway of India, Marine Drive, and more.\\n- Consider staying at Holiday Inn Mumbai International Airport or The Westin Mumbai Garden City.\\n\\nEnjoy your trip to Mumbai with your wife!', additional_kwargs={'refusal': None}, response_metadata={'token_usage': {'completion_tokens': 285, 'prompt_tokens': 1210, 'total_tokens': 1495, 'completion_tokens_details': {'accepted_prediction_tokens': 0, 'audio_tokens': 0, 'reasoning_tokens': 0, 'rejected_prediction_tokens': 0}, 'prompt_tokens_details': {'audio_tokens': 0, 'cached_tokens': 0}}, 'model_name': 'gpt-3.5-turbo-0125', 'system_fingerprint': None, 'id': 'chatcmpl-Bjd48qKXdji3sPAkciJ06Wi2hWmLx', 'service_tier': 'default', 'finish_reason': 'stop', 'logprobs': None}, id='run--7c7a7864-6a4e-4f89-ab32-946661a94615-0', usage_metadata={'input_tokens': 1210, 'output_tokens': 285, 'total_tokens': 1495, 'input_token_details': {'audio': 0, 'cache_read': 0}, 'output_token_details': {'audio': 0, 'reasoning': 0}})]}"
            ]
          },
          "metadata": {},
          "execution_count": 35
        }
      ]
    },
    {
      "cell_type": "code",
      "source": [
        "for m in weather_result[\"messages\"]:\n",
        "    m.pretty_print()"
      ],
      "metadata": {
        "colab": {
          "base_uri": "https://localhost:8080/"
        },
        "id": "8zcEyLP-r9E3",
        "outputId": "16bc09ba-9a7e-4dd6-e948-41badf9edfda"
      },
      "execution_count": 36,
      "outputs": [
        {
          "output_type": "stream",
          "name": "stdout",
          "text": [
            "================================\u001b[1m Human Message \u001b[0m=================================\n",
            "\n",
            "I need to travel from chennai to Mumbai on 11th august 2025 for 2 days with my wife , can I travel, weather is ok?, what can I do there and where can I stay, provide me complete travel plan. \n",
            "==================================\u001b[1m Ai Message \u001b[0m==================================\n",
            "Tool Calls:\n",
            "  get_weather_forcast (call_8RohMzPTeWDFHCI0DMEFLm2g)\n",
            " Call ID: call_8RohMzPTeWDFHCI0DMEFLm2g\n",
            "  Args:\n",
            "    city: Mumbai\n",
            "    start: 2025-08-11\n",
            "    end: 2025-08-12\n",
            "  search_top_attractions (call_spljvNkIUNrTmCKIheYclxfo)\n",
            " Call ID: call_spljvNkIUNrTmCKIheYclxfo\n",
            "  Args:\n",
            "    city: Mumbai\n",
            "  search_hotels (call_HBZI2SLqcZrySWFRGAIJG0bF)\n",
            " Call ID: call_HBZI2SLqcZrySWFRGAIJG0bF\n",
            "  Args:\n",
            "    city_code: BOM\n",
            "    checkin: 2025-08-11\n",
            "    checkout: 2025-08-13\n",
            "    adults: 2\n",
            "=================================\u001b[1m Tool Message \u001b[0m=================================\n",
            "Name: get_weather_forcast\n",
            "\n",
            "2025-08-11: Moderate or heavy rain shower, High: 28.5°C, Low: 26.2°C, Icon: https://cdn.weatherapi.com/weather/64x64/day/356.png\n",
            "2025-08-12: Moderate or heavy rain shower, High: 28.6°C, Low: 26.1°C, Icon: https://cdn.weatherapi.com/weather/64x64/day/356.png\n",
            "=================================\u001b[1m Tool Message \u001b[0m=================================\n",
            "Name: search_top_attractions\n",
            "\n",
            "Top tourist attractions in Mumbai: Gateway of India, Marine Drive, Chhatrapati Shivaji Terminus, Elephanta Caves, Bandra Worli Sea Link. Top activities: sightseeing, beach visits, cultural tours, shopping, and dining.\n",
            "=================================\u001b[1m Tool Message \u001b[0m=================================\n",
            "Name: search_hotels\n",
            "\n",
            "1. HOLIDAY INN MUMBAI INTL ARPT\n",
            "   Price: 21147.96 INR\n",
            "   Room: STANDARD_ROOM\n",
            "   Rating: Not rated\n",
            "\n",
            "2. The Westin Mumbai Garden City\n",
            "   Price: 44250.00 INR\n",
            "   Room: DELUXE_ROOM\n",
            "   Rating: Not rated\n",
            "\n",
            "==================================\u001b[1m Ai Message \u001b[0m==================================\n",
            "\n",
            "### Travel Plan for Chennai to Mumbai Trip on August 11-13, 2025\n",
            "\n",
            "#### Weather Forecast:\n",
            "- **August 11, 2025:** Moderate or heavy rain shower, High: 28.5°C, Low: 26.2°C\n",
            "- **August 12, 2025:** Moderate or heavy rain shower, High: 28.6°C, Low: 26.1°C\n",
            "\n",
            "#### Things to Do in Mumbai:\n",
            "- **Top Tourist Attractions:** Gateway of India, Marine Drive, Chhatrapati Shivaji Terminus, Elephanta Caves, Bandra Worli Sea Link\n",
            "- **Top Activities:** Sightseeing, Beach visits, Cultural tours, Shopping, Dining\n",
            "\n",
            "#### Hotel Options:\n",
            "1. **Holiday Inn Mumbai International Airport**\n",
            "   - Price: 21147.96 INR\n",
            "   - Room: Standard Room\n",
            "   - Rating: Not rated\n",
            "\n",
            "2. **The Westin Mumbai Garden City**\n",
            "   - Price: 44250.00 INR\n",
            "   - Room: Deluxe Room\n",
            "   - Rating: Not rated\n",
            "\n",
            "### Conclusion:\n",
            "- The weather in Mumbai on the specified dates might have rain showers.\n",
            "- You can visit popular attractions like Gateway of India, Marine Drive, and more.\n",
            "- Consider staying at Holiday Inn Mumbai International Airport or The Westin Mumbai Garden City.\n",
            "\n",
            "Enjoy your trip to Mumbai with your wife!\n"
          ]
        }
      ]
    },
    {
      "cell_type": "code",
      "source": [
        "from IPython.display import Markdown, display\n",
        "\n",
        "response = weather_result[\"messages\"][-1].content\n",
        "display(Markdown(response))  # For Jupyter or Colab\n"
      ],
      "metadata": {
        "colab": {
          "base_uri": "https://localhost:8080/",
          "height": 538
        },
        "id": "5NquLyaqNJip",
        "outputId": "be9379f4-17f2-4b7a-a647-5189a78de435"
      },
      "execution_count": 37,
      "outputs": [
        {
          "output_type": "display_data",
          "data": {
            "text/plain": [
              "<IPython.core.display.Markdown object>"
            ],
            "text/markdown": "### Travel Plan for Chennai to Mumbai Trip on August 11-13, 2025\n\n#### Weather Forecast:\n- **August 11, 2025:** Moderate or heavy rain shower, High: 28.5°C, Low: 26.2°C\n- **August 12, 2025:** Moderate or heavy rain shower, High: 28.6°C, Low: 26.1°C\n\n#### Things to Do in Mumbai:\n- **Top Tourist Attractions:** Gateway of India, Marine Drive, Chhatrapati Shivaji Terminus, Elephanta Caves, Bandra Worli Sea Link\n- **Top Activities:** Sightseeing, Beach visits, Cultural tours, Shopping, Dining\n\n#### Hotel Options:\n1. **Holiday Inn Mumbai International Airport**\n   - Price: 21147.96 INR\n   - Room: Standard Room\n   - Rating: Not rated\n\n2. **The Westin Mumbai Garden City**\n   - Price: 44250.00 INR\n   - Room: Deluxe Room\n   - Rating: Not rated\n\n### Conclusion:\n- The weather in Mumbai on the specified dates might have rain showers.\n- You can visit popular attractions like Gateway of India, Marine Drive, and more.\n- Consider staying at Holiday Inn Mumbai International Airport or The Westin Mumbai Garden City.\n\nEnjoy your trip to Mumbai with your wife!"
          },
          "metadata": {}
        }
      ]
    }
  ]
}