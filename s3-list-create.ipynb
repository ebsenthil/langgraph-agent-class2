{
  "nbformat": 4,
  "nbformat_minor": 0,
  "metadata": {
    "colab": {
      "provenance": [],
      "authorship_tag": "ABX9TyPUNBegCAGN8gBvuEs5gUDq",
      "include_colab_link": true
    },
    "kernelspec": {
      "name": "python3",
      "display_name": "Python 3"
    },
    "language_info": {
      "name": "python"
    }
  },
  "cells": [
    {
      "cell_type": "markdown",
      "metadata": {
        "id": "view-in-github",
        "colab_type": "text"
      },
      "source": [
        "<a href=\"https://colab.research.google.com/github/ebsenthil/langgraph-agent-class2/blob/main/s3-list-create.ipynb\" target=\"_parent\"><img src=\"https://colab.research.google.com/assets/colab-badge.svg\" alt=\"Open In Colab\"/></a>"
      ]
    },
    {
      "cell_type": "code",
      "execution_count": null,
      "metadata": {
        "id": "doB0JP2_l8kQ"
      },
      "outputs": [],
      "source": [
        "!pip install --quiet boto3 langchain langgraph langchain_openai\n"
      ]
    },
    {
      "cell_type": "code",
      "source": [
        "from google.colab import userdata\n",
        "\n",
        "# Correct way to access values\n",
        "AWS_ACCESS_KEY_ID = userdata.get(\"AWS_ACCESS_KEY_ID\")\n",
        "AWS_SECRET_ACCESS_KEY = userdata.get(\"AWS_SECRET_ACCESS_KEY\")\n",
        "AWS_DEFAULT_REGION = userdata.get(\"AWS_DEFAULT_REGION\")  # fallback default\n",
        "openai_api_key = userdata.get('OPENAI_API_KEY')\n",
        "\n"
      ],
      "metadata": {
        "id": "bKKHydQwmuzo"
      },
      "execution_count": null,
      "outputs": []
    },
    {
      "cell_type": "code",
      "source": [
        "from langchain.tools import tool\n",
        "import requests\n",
        "from datetime import datetime, timedelta\n",
        "import os"
      ],
      "metadata": {
        "id": "9h3thGuVnr9m"
      },
      "execution_count": null,
      "outputs": []
    },
    {
      "cell_type": "code",
      "source": [
        "import os\n",
        "\n",
        "os.environ[\"AWS_ACCESS_KEY_ID\"] = AWS_ACCESS_KEY_ID\n",
        "os.environ[\"AWS_SECRET_ACCESS_KEY\"] = AWS_SECRET_ACCESS_KEY\n",
        "os.environ[\"AWS_DEFAULT_REGION\"] = AWS_DEFAULT_REGION\n"
      ],
      "metadata": {
        "id": "lHkB7Km0nipt"
      },
      "execution_count": null,
      "outputs": []
    },
    {
      "cell_type": "code",
      "source": [
        "from langchain_openai import ChatOpenAI\n",
        "\n",
        "llm = ChatOpenAI(model=\"gpt-3.5-turbo\",api_key=openai_api_key)  # or \"gpt-3.5-turbo\"\n",
        "response = llm.invoke(\"hi\")\n",
        "print(response.content)"
      ],
      "metadata": {
        "id": "hJb8IMTbn6U8"
      },
      "execution_count": null,
      "outputs": []
    },
    {
      "cell_type": "code",
      "source": [
        "# ✅ Tool Functions for LangGraph\n",
        "\n",
        "import boto3\n",
        "from langchain.tools import tool\n",
        "\n",
        "s3_client = boto3.client(\"s3\")\n",
        "\n",
        "@tool\n",
        "def list_s3_buckets() -> str:\n",
        "    \"\"\"List all S3 buckets\"\"\"\n",
        "    response = s3_client.list_buckets()\n",
        "    buckets = [bucket[\"Name\"] for bucket in response[\"Buckets\"]]\n",
        "    return f\"S3 Buckets: {', '.join(buckets)}\"\n",
        "\n",
        "@tool\n",
        "def create_s3_bucket(bucket_name: str) -> str:\n",
        "    \"\"\"Create an S3 bucket with the given name\"\"\"\n",
        "    try:\n",
        "        s3_client.create_bucket(Bucket=bucket_name)\n",
        "        return f\"✅ Bucket '{bucket_name}' created successfully!\"\n",
        "    except Exception as e:\n",
        "        return f\"❌ Error: {str(e)}\"\n"
      ],
      "metadata": {
        "id": "KKi8p7BMoO6j"
      },
      "execution_count": null,
      "outputs": []
    },
    {
      "cell_type": "code",
      "source": [
        "tools = [list_s3_buckets,create_s3_bucket]\n",
        "llm_with_tools=llm.bind_tools(tools)"
      ],
      "metadata": {
        "id": "cF5s5AYVoWS3"
      },
      "execution_count": null,
      "outputs": []
    },
    {
      "cell_type": "code",
      "source": [
        "SYSTEM_PROMPT = \"\"\"\n",
        "You are an AI assistant that interacts with Amazon S3 using predefined tools. You can help users manage their S3 buckets by either listing existing buckets or creating a new one.\n",
        "\n",
        "You have access to the following tools:\n",
        "\n",
        "1. `list_s3_buckets`:\n",
        "   - Use this tool to list all S3 buckets available in the user's AWS account.\n",
        "   - Example inputs:\n",
        "     - \"Show me all my S3 buckets\"\n",
        "     - \"List the buckets I have\"\n",
        "     - \"What buckets are there in my AWS?\"\n",
        "\n",
        "2. `create_s3_bucket`:\n",
        "   - Use this tool to create a new S3 bucket with the provided name.\n",
        "   - You must extract the intended bucket name from the user input.\n",
        "   - Bucket names must be globally unique and follow AWS naming conventions.\n",
        "   - Example inputs:\n",
        "     - \"Create an S3 bucket named `my-test-bucket`\"\n",
        "     - \"I want to make a bucket called `data-storage-demo`\"\n",
        "     - \"Make a new bucket `langgraph-agent-test`\"\n",
        "\n",
        "Guidelines:\n",
        "- If the user asks to create a bucket, ensure you extract the bucket name accurately.\n",
        "- If the user asks to list, use `list_s3_buckets`.\n",
        "- Always respond clearly and concisely with the result of the tool call.\n",
        "- If the action is unclear, ask the user to clarify what they want to do with S3.\n",
        "\n",
        "Only use the tools you have. Do not make up bucket contents, objects, or permissions.\n",
        "\n",
        "\"\"\""
      ],
      "metadata": {
        "id": "kUiyRBVKowtt"
      },
      "execution_count": null,
      "outputs": []
    },
    {
      "cell_type": "code",
      "source": [
        "from langchain_core.messages import HumanMessage, SystemMessage\n",
        "from langgraph.graph import MessagesState,StateGraph, END, START"
      ],
      "metadata": {
        "id": "bBX4mO_mo5Xv"
      },
      "execution_count": null,
      "outputs": []
    },
    {
      "cell_type": "code",
      "source": [
        "def function_1(state:MessagesState):\n",
        "\n",
        "    user_question=state[\"messages\"]\n",
        "\n",
        "    input_question = [SYSTEM_PROMPT]+user_question\n",
        "\n",
        "    response = llm_with_tools.invoke(input_question)\n",
        "\n",
        "    return {\n",
        "        \"messages\":[response]\n",
        "    }"
      ],
      "metadata": {
        "id": "Xt6rh-kko8TV"
      },
      "execution_count": null,
      "outputs": []
    },
    {
      "cell_type": "code",
      "source": [
        "builder=StateGraph(MessagesState)\n",
        "builder.add_node(\"llm_decision_step\",function_1)\n"
      ],
      "metadata": {
        "id": "SnfGpQXKo_d3"
      },
      "execution_count": null,
      "outputs": []
    },
    {
      "cell_type": "code",
      "source": [
        "from langgraph.prebuilt import ToolNode\n",
        "builder.add_node(\"tools\",ToolNode(tools))"
      ],
      "metadata": {
        "id": "FhrFsEZ_pGBt"
      },
      "execution_count": null,
      "outputs": []
    },
    {
      "cell_type": "code",
      "source": [
        "builder.add_edge(START,\"llm_decision_step\")"
      ],
      "metadata": {
        "id": "F5fpQZ9ppIrB"
      },
      "execution_count": null,
      "outputs": []
    },
    {
      "cell_type": "code",
      "source": [
        "from langgraph.prebuilt import tools_condition\n",
        "builder.add_conditional_edges(\n",
        "    \"llm_decision_step\",\n",
        "    tools_condition,\n",
        ")"
      ],
      "metadata": {
        "id": "_tlUIiyWpMB8"
      },
      "execution_count": null,
      "outputs": []
    },
    {
      "cell_type": "code",
      "source": [
        "builder.add_edge(\"tools\",\"llm_decision_step\")"
      ],
      "metadata": {
        "id": "tzuU86HCpPzp"
      },
      "execution_count": null,
      "outputs": []
    },
    {
      "cell_type": "code",
      "source": [
        "react_graph=builder.compile()"
      ],
      "metadata": {
        "id": "m9U9rNeKpSfv"
      },
      "execution_count": null,
      "outputs": []
    },
    {
      "cell_type": "code",
      "source": [
        "from IPython.display import Image, display\n",
        "display(Image(react_graph.get_graph().draw_mermaid_png()))"
      ],
      "metadata": {
        "id": "Y33fDXyapU48"
      },
      "execution_count": null,
      "outputs": []
    },
    {
      "cell_type": "code",
      "source": [
        "message=[HumanMessage(content=\"can you list the s3 buckets?\")]"
      ],
      "metadata": {
        "id": "ZIAYV9rapYBy"
      },
      "execution_count": null,
      "outputs": []
    },
    {
      "cell_type": "code",
      "source": [
        "message=[HumanMessage(content=\"can you create an s3 with name langgraph-test-18jun?\")]"
      ],
      "metadata": {
        "id": "pjW_MaC0qqMc"
      },
      "execution_count": null,
      "outputs": []
    },
    {
      "cell_type": "code",
      "source": [
        "result=react_graph.invoke({\"messages\":message})"
      ],
      "metadata": {
        "id": "cMqoyqy_paS8"
      },
      "execution_count": null,
      "outputs": []
    },
    {
      "cell_type": "code",
      "source": [
        "result"
      ],
      "metadata": {
        "id": "l6Yt-ZR6pf5B"
      },
      "execution_count": null,
      "outputs": []
    },
    {
      "cell_type": "code",
      "source": [
        "for m in result[\"messages\"]:\n",
        "    m.pretty_print()"
      ],
      "metadata": {
        "id": "TvPJH9vcpdZK"
      },
      "execution_count": null,
      "outputs": []
    },
    {
      "cell_type": "code",
      "source": [
        "from IPython.display import Markdown, display\n",
        "\n",
        "response = result[\"messages\"][-1].content\n",
        "display(Markdown(response))  # For Jupyter or Colab"
      ],
      "metadata": {
        "id": "rk2Usii7po7Q"
      },
      "execution_count": null,
      "outputs": []
    }
  ]
}