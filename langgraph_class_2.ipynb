{
  "nbformat": 4,
  "nbformat_minor": 0,
  "metadata": {
    "colab": {
      "provenance": [],
      "authorship_tag": "ABX9TyOnu3JvH5iyWhudcEjG7NyB",
      "include_colab_link": true
    },
    "kernelspec": {
      "name": "python3",
      "display_name": "Python 3"
    },
    "language_info": {
      "name": "python"
    }
  },
  "cells": [
    {
      "cell_type": "markdown",
      "metadata": {
        "id": "view-in-github",
        "colab_type": "text"
      },
      "source": [
        "<a href=\"https://colab.research.google.com/github/ebsenthil/langgraph-agent-class2/blob/main/langgraph_class_2.ipynb\" target=\"_parent\"><img src=\"https://colab.research.google.com/assets/colab-badge.svg\" alt=\"Open In Colab\"/></a>"
      ]
    },
    {
      "cell_type": "code",
      "execution_count": null,
      "metadata": {
        "id": "6YLyReqkpe9H"
      },
      "outputs": [],
      "source": []
    },
    {
      "cell_type": "code",
      "source": [
        "from google.colab import drive\n",
        "drive.mount('/content/drive')\n"
      ],
      "metadata": {
        "colab": {
          "base_uri": "https://localhost:8080/"
        },
        "id": "DZLMY3G0sPJh",
        "outputId": "a10652ba-c4b8-4a59-a5f5-2789cfe55083"
      },
      "execution_count": 2,
      "outputs": [
        {
          "output_type": "stream",
          "name": "stdout",
          "text": [
            "Mounted at /content/drive\n"
          ]
        }
      ]
    },
    {
      "cell_type": "code",
      "source": [
        "file='/content/drive/MyDrive/langgraph-data/usa.txt'"
      ],
      "metadata": {
        "id": "XgYIF2jVuKyk"
      },
      "execution_count": 3,
      "outputs": []
    },
    {
      "cell_type": "code",
      "source": [
        "with open(file, 'r') as file:\n",
        "    print(file.read())\n"
      ],
      "metadata": {
        "id": "RpSHKcwCt1Yx"
      },
      "execution_count": null,
      "outputs": []
    },
    {
      "cell_type": "code",
      "source": [
        "from google.colab import userdata\n",
        "\n",
        "# Access the secret\n",
        "tavily_api_key = userdata.get('TAVILY_API_KEY')\n",
        "api_key = userdata.get('OPENAI_API_KEY')\n",
        "\n",
        "# Print it (for verification during development, avoid in production logs)\n",
        "#print(f\"Tavily API Key (first 5 chars): {TAVILY_API_KEY[:5]}*****\")\n"
      ],
      "metadata": {
        "id": "uRj7WkV1fLHZ"
      },
      "execution_count": 8,
      "outputs": []
    },
    {
      "cell_type": "code",
      "source": [
        "print(\"all ok\")"
      ],
      "metadata": {
        "colab": {
          "base_uri": "https://localhost:8080/"
        },
        "id": "y7wLj3cdzURh",
        "outputId": "445351ed-d8fa-4963-fe89-18b505e6b426"
      },
      "execution_count": 4,
      "outputs": [
        {
          "output_type": "stream",
          "name": "stdout",
          "text": [
            "all ok\n"
          ]
        }
      ]
    },
    {
      "cell_type": "code",
      "source": [
        "!pip install langchain_tavily"
      ],
      "metadata": {
        "colab": {
          "base_uri": "https://localhost:8080/"
        },
        "id": "lx161Lpt_bIN",
        "outputId": "2a7b4c07-1bd9-4bff-e471-12017e68866b"
      },
      "execution_count": 6,
      "outputs": [
        {
          "output_type": "stream",
          "name": "stdout",
          "text": [
            "Collecting langchain_tavily\n",
            "  Downloading langchain_tavily-0.2.2-py3-none-any.whl.metadata (21 kB)\n",
            "Requirement already satisfied: aiohttp<4.0.0,>=3.11.14 in /usr/local/lib/python3.11/dist-packages (from langchain_tavily) (3.11.15)\n",
            "Requirement already satisfied: langchain<0.4.0,>=0.3.20 in /usr/local/lib/python3.11/dist-packages (from langchain_tavily) (0.3.25)\n",
            "Requirement already satisfied: langchain-core<0.4.0,>=0.3.15 in /usr/local/lib/python3.11/dist-packages (from langchain_tavily) (0.3.63)\n",
            "Collecting mypy<2.0.0,>=1.15.0 (from langchain_tavily)\n",
            "  Downloading mypy-1.16.0-cp311-cp311-manylinux_2_17_x86_64.manylinux2014_x86_64.manylinux_2_28_x86_64.whl.metadata (2.1 kB)\n",
            "Requirement already satisfied: requests<3.0.0,>=2.32.3 in /usr/local/lib/python3.11/dist-packages (from langchain_tavily) (2.32.3)\n",
            "Requirement already satisfied: aiohappyeyeballs>=2.3.0 in /usr/local/lib/python3.11/dist-packages (from aiohttp<4.0.0,>=3.11.14->langchain_tavily) (2.6.1)\n",
            "Requirement already satisfied: aiosignal>=1.1.2 in /usr/local/lib/python3.11/dist-packages (from aiohttp<4.0.0,>=3.11.14->langchain_tavily) (1.3.2)\n",
            "Requirement already satisfied: attrs>=17.3.0 in /usr/local/lib/python3.11/dist-packages (from aiohttp<4.0.0,>=3.11.14->langchain_tavily) (25.3.0)\n",
            "Requirement already satisfied: frozenlist>=1.1.1 in /usr/local/lib/python3.11/dist-packages (from aiohttp<4.0.0,>=3.11.14->langchain_tavily) (1.6.0)\n",
            "Requirement already satisfied: multidict<7.0,>=4.5 in /usr/local/lib/python3.11/dist-packages (from aiohttp<4.0.0,>=3.11.14->langchain_tavily) (6.4.4)\n",
            "Requirement already satisfied: propcache>=0.2.0 in /usr/local/lib/python3.11/dist-packages (from aiohttp<4.0.0,>=3.11.14->langchain_tavily) (0.3.1)\n",
            "Requirement already satisfied: yarl<2.0,>=1.17.0 in /usr/local/lib/python3.11/dist-packages (from aiohttp<4.0.0,>=3.11.14->langchain_tavily) (1.20.0)\n",
            "Requirement already satisfied: langchain-text-splitters<1.0.0,>=0.3.8 in /usr/local/lib/python3.11/dist-packages (from langchain<0.4.0,>=0.3.20->langchain_tavily) (0.3.8)\n",
            "Requirement already satisfied: langsmith<0.4,>=0.1.17 in /usr/local/lib/python3.11/dist-packages (from langchain<0.4.0,>=0.3.20->langchain_tavily) (0.3.44)\n",
            "Requirement already satisfied: pydantic<3.0.0,>=2.7.4 in /usr/local/lib/python3.11/dist-packages (from langchain<0.4.0,>=0.3.20->langchain_tavily) (2.11.5)\n",
            "Requirement already satisfied: SQLAlchemy<3,>=1.4 in /usr/local/lib/python3.11/dist-packages (from langchain<0.4.0,>=0.3.20->langchain_tavily) (2.0.41)\n",
            "Requirement already satisfied: PyYAML>=5.3 in /usr/local/lib/python3.11/dist-packages (from langchain<0.4.0,>=0.3.20->langchain_tavily) (6.0.2)\n",
            "Requirement already satisfied: tenacity!=8.4.0,<10.0.0,>=8.1.0 in /usr/local/lib/python3.11/dist-packages (from langchain-core<0.4.0,>=0.3.15->langchain_tavily) (9.1.2)\n",
            "Requirement already satisfied: jsonpatch<2.0,>=1.33 in /usr/local/lib/python3.11/dist-packages (from langchain-core<0.4.0,>=0.3.15->langchain_tavily) (1.33)\n",
            "Requirement already satisfied: packaging<25,>=23.2 in /usr/local/lib/python3.11/dist-packages (from langchain-core<0.4.0,>=0.3.15->langchain_tavily) (24.2)\n",
            "Requirement already satisfied: typing-extensions>=4.7 in /usr/local/lib/python3.11/dist-packages (from langchain-core<0.4.0,>=0.3.15->langchain_tavily) (4.14.0)\n",
            "Collecting mypy_extensions>=1.0.0 (from mypy<2.0.0,>=1.15.0->langchain_tavily)\n",
            "  Downloading mypy_extensions-1.1.0-py3-none-any.whl.metadata (1.1 kB)\n",
            "Collecting pathspec>=0.9.0 (from mypy<2.0.0,>=1.15.0->langchain_tavily)\n",
            "  Downloading pathspec-0.12.1-py3-none-any.whl.metadata (21 kB)\n",
            "Requirement already satisfied: charset-normalizer<4,>=2 in /usr/local/lib/python3.11/dist-packages (from requests<3.0.0,>=2.32.3->langchain_tavily) (3.4.2)\n",
            "Requirement already satisfied: idna<4,>=2.5 in /usr/local/lib/python3.11/dist-packages (from requests<3.0.0,>=2.32.3->langchain_tavily) (3.10)\n",
            "Requirement already satisfied: urllib3<3,>=1.21.1 in /usr/local/lib/python3.11/dist-packages (from requests<3.0.0,>=2.32.3->langchain_tavily) (2.4.0)\n",
            "Requirement already satisfied: certifi>=2017.4.17 in /usr/local/lib/python3.11/dist-packages (from requests<3.0.0,>=2.32.3->langchain_tavily) (2025.4.26)\n",
            "Requirement already satisfied: jsonpointer>=1.9 in /usr/local/lib/python3.11/dist-packages (from jsonpatch<2.0,>=1.33->langchain-core<0.4.0,>=0.3.15->langchain_tavily) (3.0.0)\n",
            "Requirement already satisfied: httpx<1,>=0.23.0 in /usr/local/lib/python3.11/dist-packages (from langsmith<0.4,>=0.1.17->langchain<0.4.0,>=0.3.20->langchain_tavily) (0.28.1)\n",
            "Requirement already satisfied: orjson<4.0.0,>=3.9.14 in /usr/local/lib/python3.11/dist-packages (from langsmith<0.4,>=0.1.17->langchain<0.4.0,>=0.3.20->langchain_tavily) (3.10.18)\n",
            "Requirement already satisfied: requests-toolbelt<2.0.0,>=1.0.0 in /usr/local/lib/python3.11/dist-packages (from langsmith<0.4,>=0.1.17->langchain<0.4.0,>=0.3.20->langchain_tavily) (1.0.0)\n",
            "Requirement already satisfied: zstandard<0.24.0,>=0.23.0 in /usr/local/lib/python3.11/dist-packages (from langsmith<0.4,>=0.1.17->langchain<0.4.0,>=0.3.20->langchain_tavily) (0.23.0)\n",
            "Requirement already satisfied: annotated-types>=0.6.0 in /usr/local/lib/python3.11/dist-packages (from pydantic<3.0.0,>=2.7.4->langchain<0.4.0,>=0.3.20->langchain_tavily) (0.7.0)\n",
            "Requirement already satisfied: pydantic-core==2.33.2 in /usr/local/lib/python3.11/dist-packages (from pydantic<3.0.0,>=2.7.4->langchain<0.4.0,>=0.3.20->langchain_tavily) (2.33.2)\n",
            "Requirement already satisfied: typing-inspection>=0.4.0 in /usr/local/lib/python3.11/dist-packages (from pydantic<3.0.0,>=2.7.4->langchain<0.4.0,>=0.3.20->langchain_tavily) (0.4.1)\n",
            "Requirement already satisfied: greenlet>=1 in /usr/local/lib/python3.11/dist-packages (from SQLAlchemy<3,>=1.4->langchain<0.4.0,>=0.3.20->langchain_tavily) (3.2.2)\n",
            "Requirement already satisfied: anyio in /usr/local/lib/python3.11/dist-packages (from httpx<1,>=0.23.0->langsmith<0.4,>=0.1.17->langchain<0.4.0,>=0.3.20->langchain_tavily) (4.9.0)\n",
            "Requirement already satisfied: httpcore==1.* in /usr/local/lib/python3.11/dist-packages (from httpx<1,>=0.23.0->langsmith<0.4,>=0.1.17->langchain<0.4.0,>=0.3.20->langchain_tavily) (1.0.9)\n",
            "Requirement already satisfied: h11>=0.16 in /usr/local/lib/python3.11/dist-packages (from httpcore==1.*->httpx<1,>=0.23.0->langsmith<0.4,>=0.1.17->langchain<0.4.0,>=0.3.20->langchain_tavily) (0.16.0)\n",
            "Requirement already satisfied: sniffio>=1.1 in /usr/local/lib/python3.11/dist-packages (from anyio->httpx<1,>=0.23.0->langsmith<0.4,>=0.1.17->langchain<0.4.0,>=0.3.20->langchain_tavily) (1.3.1)\n",
            "Downloading langchain_tavily-0.2.2-py3-none-any.whl (24 kB)\n",
            "Downloading mypy-1.16.0-cp311-cp311-manylinux_2_17_x86_64.manylinux2014_x86_64.manylinux_2_28_x86_64.whl (12.5 MB)\n",
            "\u001b[2K   \u001b[90m━━━━━━━━━━━━━━━━━━━━━━━━━━━━━━━━━━━━━━━━\u001b[0m \u001b[32m12.5/12.5 MB\u001b[0m \u001b[31m93.1 MB/s\u001b[0m eta \u001b[36m0:00:00\u001b[0m\n",
            "\u001b[?25hDownloading mypy_extensions-1.1.0-py3-none-any.whl (5.0 kB)\n",
            "Downloading pathspec-0.12.1-py3-none-any.whl (31 kB)\n",
            "Installing collected packages: pathspec, mypy_extensions, mypy, langchain_tavily\n",
            "Successfully installed langchain_tavily-0.2.2 mypy-1.16.0 mypy_extensions-1.1.0 pathspec-0.12.1\n"
          ]
        }
      ]
    },
    {
      "cell_type": "code",
      "source": [
        "from langchain_tavily import TavilySearch\n",
        "\n",
        "tool = TavilySearch(\n",
        "    max_results=5,\n",
        "    topic=\"general\",\n",
        "    tavily_api_key=tavily_api_key,\n",
        "    # include_answer=False,\n",
        "    # include_raw_content=False,\n",
        "    # include_images=False,\n",
        "    # include_image_descriptions=False,\n",
        "    # search_depth=\"basic\",\n",
        "    # time_range=\"day\",\n",
        "    # include_domains=None,\n",
        "    # exclude_domains=None\n",
        ")"
      ],
      "metadata": {
        "id": "656vixCW_mqO"
      },
      "execution_count": 76,
      "outputs": []
    },
    {
      "cell_type": "code",
      "source": [
        "result=tool.invoke({\"query\": \"current news in chennai\"})\n",
        "result"
      ],
      "metadata": {
        "colab": {
          "base_uri": "https://localhost:8080/"
        },
        "id": "mma1wLBw_sIP",
        "outputId": "8a16dc1a-7572-4df8-8fb7-5388531914c3"
      },
      "execution_count": 77,
      "outputs": [
        {
          "output_type": "execute_result",
          "data": {
            "text/plain": [
              "{'query': 'current news in chennai',\n",
              " 'follow_up_questions': None,\n",
              " 'answer': None,\n",
              " 'images': [],\n",
              " 'results': [{'title': \"Chennai News: Today's Latest & Breaking Chennai News Headlines - News18\",\n",
              "   'url': 'https://www.news18.com/cities/chennai-news/',\n",
              "   'content': \"Chennai News: Read today's Breaking and latest Chennai News headlines from News18, covering Chennai's politics, crime, education, business, and sports news updates.\",\n",
              "   'score': 0.7447496,\n",
              "   'raw_content': None},\n",
              "  {'title': \"Chennai News: Today's Latest Chennai Top News Headlines ... - India Today\",\n",
              "   'url': 'https://www.indiatoday.in/cities/chennai-news',\n",
              "   'content': 'Chennai News Today: Find the Latest and Breaking Chennai News Headlines, Chennai Crime News, Chennai Education News, Chennai Politics news and more on India Today.',\n",
              "   'score': 0.7171114,\n",
              "   'raw_content': None},\n",
              "  {'title': 'Latest and Breaking Chennai News - NDTV.com',\n",
              "   'url': 'https://www.ndtv.com/chennai-news/',\n",
              "   'content': \"Today's Chennai News: Get all the Latest and Breaking Chennai News on NDTV. Live local Chennai news coverage and updates on Politics, Election, Weather, Crime and More\",\n",
              "   'score': 0.7016523,\n",
              "   'raw_content': None},\n",
              "  {'title': 'Chennai News: Latest Chennai News Headlines & Coronavirus News Updates ...',\n",
              "   'url': 'https://timesofindia.indiatimes.com/city/chennai',\n",
              "   'content': 'Chennai News Live- TOI brings the latest Chennai news about Chennai politics, Chennai education news, Chennai real estate news, Chennai crime and Live Updates on local Chennai news from Times of India',\n",
              "   'score': 0.6780931,\n",
              "   'raw_content': None},\n",
              "  {'title': \"Chennai News Today: Today's Edition on Local Politics, Events ...\",\n",
              "   'url': 'https://www.thehindu.com/news/cities/chennai/',\n",
              "   'content': \"Chennai News: Stay up-to-date with the latest happenings in the 'Gateway of South'. From politics and business to sports, 'Kollywood' cinema industry, catch all the local news coverage you\",\n",
              "   'score': 0.6334335,\n",
              "   'raw_content': None}],\n",
              " 'response_time': 1.96}"
            ]
          },
          "metadata": {},
          "execution_count": 77
        }
      ]
    },
    {
      "cell_type": "code",
      "source": [
        "internet=[]\n",
        "for item in result['results']:\n",
        "  internet.append(item['content'])"
      ],
      "metadata": {
        "id": "nFXixAmx_5Yr"
      },
      "execution_count": 11,
      "outputs": []
    },
    {
      "cell_type": "code",
      "source": [
        "internet"
      ],
      "metadata": {
        "id": "lyM0gqHvABty"
      },
      "execution_count": null,
      "outputs": []
    },
    {
      "cell_type": "code",
      "source": [
        "internet=\"\\n\\n\".join(internet)"
      ],
      "metadata": {
        "id": "zzRwfFHtAGbn"
      },
      "execution_count": 13,
      "outputs": []
    },
    {
      "cell_type": "code",
      "source": [
        "internet"
      ],
      "metadata": {
        "id": "Pu0Ya9IEALZ3"
      },
      "execution_count": null,
      "outputs": []
    },
    {
      "cell_type": "code",
      "source": [
        "from google.colab import userdata\n",
        "# Access the secret\n",
        "tavily_api_key = userdata.get('TAVILY_API_KEY')\n",
        "openai_api_key = userdata.get('OPENAI_API_KEY')\n",
        "\n",
        "# Print it (for verification during development, avoid in production logs)\n",
        "#print(f\"Tavily API Key (first 5 chars): {TAVILY_API_KEY[:5]}*****\")\n",
        "print(f\"Openai API Key (first 10 chars): {openai_api_key[:10]}*****\")"
      ],
      "metadata": {
        "colab": {
          "base_uri": "https://localhost:8080/"
        },
        "id": "g1vdLIee0FTE",
        "outputId": "f7831c09-cd6c-4286-b390-2aa035c96b37"
      },
      "execution_count": 4,
      "outputs": [
        {
          "output_type": "stream",
          "name": "stdout",
          "text": [
            "Openai API Key (first 10 chars): sk-proj-0m*****\n"
          ]
        }
      ]
    },
    {
      "cell_type": "code",
      "source": [
        "!pip install langchain_openai"
      ],
      "metadata": {
        "id": "1itVjLoC1HcW"
      },
      "execution_count": null,
      "outputs": []
    },
    {
      "cell_type": "code",
      "source": [
        "from langchain_openai import ChatOpenAI\n",
        "\n",
        "model = ChatOpenAI(model=\"gpt-3.5-turbo\",api_key=openai_api_key)  # or \"gpt-3.5-turbo\"\n",
        "output = model.invoke(\"hi\")\n",
        "print(output.content)"
      ],
      "metadata": {
        "colab": {
          "base_uri": "https://localhost:8080/"
        },
        "id": "Ulgpb5PK1Emn",
        "outputId": "b3bfb2fc-835d-4918-c900-1b468a3b66c6"
      },
      "execution_count": 5,
      "outputs": [
        {
          "output_type": "stream",
          "name": "stdout",
          "text": [
            "Hello! How can I assist you today?\n"
          ]
        }
      ]
    },
    {
      "cell_type": "code",
      "source": [
        "from langchain_openai import OpenAIEmbeddings\n",
        "\n",
        "embeddings = OpenAIEmbeddings(model=\"text-embedding-3-small\",api_key=openai_api_key)  # or \"text-embedding-ada-002\"\n",
        "vector = embeddings.embed_query(\"hi\")\n",
        "print(len(vector))"
      ],
      "metadata": {
        "colab": {
          "base_uri": "https://localhost:8080/"
        },
        "id": "tb4ki34g2n7w",
        "outputId": "53143214-db2e-46db-8730-2ac000c1c93f"
      },
      "execution_count": 6,
      "outputs": [
        {
          "output_type": "stream",
          "name": "stdout",
          "text": [
            "1536\n"
          ]
        }
      ]
    },
    {
      "cell_type": "code",
      "source": [
        "!pip install langchain_community"
      ],
      "metadata": {
        "id": "gI1J67Gn3k63"
      },
      "execution_count": null,
      "outputs": []
    },
    {
      "cell_type": "code",
      "source": [
        "from langchain_community.document_loaders import TextLoader, DirectoryLoader\n",
        "from langchain_community.vectorstores import Chroma\n",
        "from langchain.text_splitter import RecursiveCharacterTextSplitter"
      ],
      "metadata": {
        "id": "98JPueg63hfk"
      },
      "execution_count": 8,
      "outputs": []
    },
    {
      "cell_type": "code",
      "source": [
        "from langchain.document_loaders import TextLoader\n",
        "\n",
        "# Load the single file directly\n",
        "loader = TextLoader('/content/drive/MyDrive/langgraph-data/usa.txt')\n",
        "docs = loader.load()"
      ],
      "metadata": {
        "id": "HVFTkxAt4y5L"
      },
      "execution_count": 9,
      "outputs": []
    },
    {
      "cell_type": "code",
      "source": [
        "docs[0].page_content"
      ],
      "metadata": {
        "id": "-KS-CwvC5GLI"
      },
      "execution_count": null,
      "outputs": []
    },
    {
      "cell_type": "code",
      "source": [
        "text_splitter=RecursiveCharacterTextSplitter(\n",
        "    chunk_size=200,\n",
        "    chunk_overlap=50\n",
        ")"
      ],
      "metadata": {
        "id": "NSM1VqV_5KTl"
      },
      "execution_count": 11,
      "outputs": []
    },
    {
      "cell_type": "code",
      "source": [
        "new_docs=text_splitter.split_documents(documents=docs)"
      ],
      "metadata": {
        "id": "sgJ9Yo8s5MpF"
      },
      "execution_count": 12,
      "outputs": []
    },
    {
      "cell_type": "code",
      "source": [
        "new_docs"
      ],
      "metadata": {
        "id": "hRK6nVye5O_k"
      },
      "execution_count": null,
      "outputs": []
    },
    {
      "cell_type": "code",
      "source": [
        "doc_string=[doc.page_content for doc in new_docs]"
      ],
      "metadata": {
        "id": "6KGhu86Z5YPN"
      },
      "execution_count": 14,
      "outputs": []
    },
    {
      "cell_type": "code",
      "source": [
        "doc_string"
      ],
      "metadata": {
        "id": "4vU3pBuP5a_y"
      },
      "execution_count": null,
      "outputs": []
    },
    {
      "cell_type": "code",
      "source": [
        "!pip install chromadb"
      ],
      "metadata": {
        "id": "kWGUWImi5hjH"
      },
      "execution_count": null,
      "outputs": []
    },
    {
      "cell_type": "code",
      "source": [
        "db=Chroma.from_documents(new_docs,embeddings)"
      ],
      "metadata": {
        "id": "pw0OO9sI5eXK"
      },
      "execution_count": 18,
      "outputs": []
    },
    {
      "cell_type": "code",
      "source": [
        "retriever=db.as_retriever(search_kwargs={\"k\": 3})"
      ],
      "metadata": {
        "id": "TwCTfs3L8yve"
      },
      "execution_count": 19,
      "outputs": []
    },
    {
      "cell_type": "code",
      "source": [
        "retriever.invoke(\"industrial growth of usa?\")"
      ],
      "metadata": {
        "id": "6xZwuB5f81xM"
      },
      "execution_count": null,
      "outputs": []
    },
    {
      "cell_type": "code",
      "source": [
        "!pip install langgraph"
      ],
      "metadata": {
        "id": "96i764jN9C5l"
      },
      "execution_count": null,
      "outputs": []
    },
    {
      "cell_type": "code",
      "source": [
        "import operator\n",
        "from typing import List\n",
        "from pydantic import BaseModel , Field\n",
        "from langchain.prompts import PromptTemplate\n",
        "from typing import TypedDict, Annotated, Sequence\n",
        "from langchain_core.messages import BaseMessage\n",
        "from langchain_core.output_parsers import StrOutputParser\n",
        "from langchain_core.prompts import ChatPromptTemplate, PromptTemplate\n",
        "from langchain_core.runnables import RunnablePassthrough\n",
        "from langchain_core.messages import HumanMessage, AIMessage\n",
        "from langgraph.graph import StateGraph,END"
      ],
      "metadata": {
        "id": "WkFDWghD8-kA"
      },
      "execution_count": 22,
      "outputs": []
    },
    {
      "cell_type": "code",
      "source": [
        "class TopicSelectionParser(BaseModel):\n",
        "    Topic:str=Field(description=\"selected topic\")\n",
        "    Reasoning:str=Field(description='Reasoning behind topic selection')"
      ],
      "metadata": {
        "id": "PCkfTqNY9MGn"
      },
      "execution_count": 23,
      "outputs": []
    },
    {
      "cell_type": "code",
      "source": [
        "from langchain.output_parsers import PydanticOutputParser"
      ],
      "metadata": {
        "id": "aal8HP4O9OZn"
      },
      "execution_count": 24,
      "outputs": []
    },
    {
      "cell_type": "code",
      "source": [
        "parser=PydanticOutputParser(pydantic_object=TopicSelectionParser)"
      ],
      "metadata": {
        "id": "EsWI_1f99RQD"
      },
      "execution_count": 25,
      "outputs": []
    },
    {
      "cell_type": "code",
      "source": [
        "parser.get_format_instructions()"
      ],
      "metadata": {
        "colab": {
          "base_uri": "https://localhost:8080/",
          "height": 125
        },
        "id": "FfJSwX9D9UPt",
        "outputId": "4db4acea-a453-4de0-83df-fe70c989ab48"
      },
      "execution_count": 26,
      "outputs": [
        {
          "output_type": "execute_result",
          "data": {
            "text/plain": [
              "'The output should be formatted as a JSON instance that conforms to the JSON schema below.\\n\\nAs an example, for the schema {\"properties\": {\"foo\": {\"title\": \"Foo\", \"description\": \"a list of strings\", \"type\": \"array\", \"items\": {\"type\": \"string\"}}}, \"required\": [\"foo\"]}\\nthe object {\"foo\": [\"bar\", \"baz\"]} is a well-formatted instance of the schema. The object {\"properties\": {\"foo\": [\"bar\", \"baz\"]}} is not well-formatted.\\n\\nHere is the output schema:\\n```\\n{\"properties\": {\"Topic\": {\"description\": \"selected topic\", \"title\": \"Topic\", \"type\": \"string\"}, \"Reasoning\": {\"description\": \"Reasoning behind topic selection\", \"title\": \"Reasoning\", \"type\": \"string\"}}, \"required\": [\"Topic\", \"Reasoning\"]}\\n```'"
            ],
            "application/vnd.google.colaboratory.intrinsic+json": {
              "type": "string"
            }
          },
          "metadata": {},
          "execution_count": 26
        }
      ]
    },
    {
      "cell_type": "code",
      "source": [
        "class AgentState(TypedDict):\n",
        "    messages: Annotated[Sequence[BaseMessage], operator.add]"
      ],
      "metadata": {
        "id": "2Fw6Ei969ZLU"
      },
      "execution_count": 27,
      "outputs": []
    },
    {
      "cell_type": "code",
      "source": [
        "state={\"messages\":[\"hi\"]}"
      ],
      "metadata": {
        "id": "xCwrWIQa9cKN"
      },
      "execution_count": 28,
      "outputs": []
    },
    {
      "cell_type": "code",
      "source": [
        "state=\"hi\""
      ],
      "metadata": {
        "id": "MZv_ldLx9f6m"
      },
      "execution_count": 29,
      "outputs": []
    },
    {
      "cell_type": "code",
      "source": [
        "def function_1(state:AgentState):\n",
        "\n",
        "    question=state[\"messages\"][-1]\n",
        "\n",
        "    print(\"Question\",question)\n",
        "\n",
        "    template=\"\"\"\n",
        "    Your task is to classify the given user query into one of the following categories: [USA,Temperature,Not Related].\n",
        "    Only respond with the category name and nothing else.\n",
        "\n",
        "    User query: {question}\n",
        "    {format_instructions}\n",
        "    \"\"\"\n",
        "\n",
        "    prompt= PromptTemplate(\n",
        "        template=template,\n",
        "        input_variable=[\"question\"],\n",
        "        partial_variables={\"format_instructions\": parser.get_format_instructions()}\n",
        "    )\n",
        "\n",
        "\n",
        "    chain= prompt | model | parser\n",
        "\n",
        "    response = chain.invoke({\"question\":question})\n",
        "\n",
        "    print(\"Parsed response:\", response)\n",
        "\n",
        "    return {\"messages\": [response.Topic]}"
      ],
      "metadata": {
        "id": "JY4r_Rm09k3f"
      },
      "execution_count": 30,
      "outputs": []
    },
    {
      "cell_type": "code",
      "source": [
        "state={\"messages\":[\"what is a today temperature?\"]}"
      ],
      "metadata": {
        "id": "hMK-ExAD9tKe"
      },
      "execution_count": 31,
      "outputs": []
    },
    {
      "cell_type": "code",
      "source": [
        "state={\"messages\":[\"what is a temperature in chennai??\"]}"
      ],
      "metadata": {
        "id": "TKnJxSg39wAh"
      },
      "execution_count": 34,
      "outputs": []
    },
    {
      "cell_type": "code",
      "source": [
        "function_1(state)"
      ],
      "metadata": {
        "colab": {
          "base_uri": "https://localhost:8080/"
        },
        "id": "i3AgGWfw9yqU",
        "outputId": "ed77bb88-7668-427b-bd99-bd74daa16185"
      },
      "execution_count": 35,
      "outputs": [
        {
          "output_type": "stream",
          "name": "stdout",
          "text": [
            "Question what is a temperature in chennai??\n",
            "Parsed response: Topic='Temperature' Reasoning='The query is asking for the temperature in Chennai, which falls under the topic of Temperature.'\n"
          ]
        },
        {
          "output_type": "execute_result",
          "data": {
            "text/plain": [
              "{'messages': ['Temperature']}"
            ]
          },
          "metadata": {},
          "execution_count": 35
        }
      ]
    },
    {
      "cell_type": "code",
      "source": [
        "def router(state: AgentState):\n",
        "    print(\"-> ROUTER ->\")\n",
        "\n",
        "    last_message = state[\"messages\"][-1]\n",
        "    print(\"last_message:\", last_message)\n",
        "\n",
        "    message_text = last_message.lower()\n",
        "\n",
        "    if \"temperature\" in message_text:\n",
        "        return \"INTERNET Call\"\n",
        "    elif \"usa\" in message_text:\n",
        "        return \"RAG Call\"\n",
        "    else:\n",
        "        return \"LLM Call\"\n"
      ],
      "metadata": {
        "id": "1k5UJuHu920O"
      },
      "execution_count": 36,
      "outputs": []
    },
    {
      "cell_type": "code",
      "source": [
        "def format_docs(docs):\n",
        "    return \"\\n\\n\".join(doc.page_content for doc in docs)"
      ],
      "metadata": {
        "id": "lon9K4cT954D"
      },
      "execution_count": 37,
      "outputs": []
    },
    {
      "cell_type": "code",
      "source": [
        "# RAG Function\n",
        "def function_2(state:AgentState):\n",
        "    print(\"-> RAG Call ->\")\n",
        "\n",
        "    question = state[\"messages\"][0]\n",
        "\n",
        "    prompt=PromptTemplate(\n",
        "        template=\"\"\"You are an assistant for question-answering tasks. Use the following pieces of retrieved context to answer the question. If you don't know the answer, just say that you don't know. Use three sentences maximum and keep the answer concise.\\nQuestion: {question} \\nContext: {context} \\nAnswer:\"\"\",\n",
        "\n",
        "        input_variables=['context', 'question']\n",
        "    )\n",
        "\n",
        "    rag_chain = (\n",
        "        {\"context\": retriever | format_docs, \"question\": RunnablePassthrough()}\n",
        "        | prompt\n",
        "        | model\n",
        "        | StrOutputParser()\n",
        "    )\n",
        "    result = rag_chain.invoke(question)\n",
        "    return  {\"messages\": [result]}"
      ],
      "metadata": {
        "id": "vY8onCET98rK"
      },
      "execution_count": 38,
      "outputs": []
    },
    {
      "cell_type": "code",
      "source": [
        "# LLM Function\n",
        "def function_3(state:AgentState):\n",
        "    print(\"-> LLM Call ->\")\n",
        "    question = state[\"messages\"][0]\n",
        "\n",
        "    # Normal LLM call\n",
        "    complete_query = \"Anwer the follow question with you knowledge of the real world. Following is the user question: \" + question\n",
        "    response = model.invoke(complete_query)\n",
        "    return {\"messages\": [response.content]}"
      ],
      "metadata": {
        "id": "HNg3cgBo9_nf"
      },
      "execution_count": 39,
      "outputs": []
    },
    {
      "cell_type": "code",
      "source": [
        "# INTERNET Function\n",
        "def function_4(state:AgentState):\n",
        "    print(\"-> INTERNET Call ->\")\n",
        "    question = state[\"messages\"][0]\n",
        "    # Initialize tool inside function\n",
        "    tool = TavilySearch(\n",
        "        max_results=5,\n",
        "        topic=\"general\",\n",
        "        tavily_api_key=tavily_api_key,\n",
        "    )\n",
        "\n",
        "    # INTERNET call\n",
        "    complete_query = \"Anwer the follow question with you knowledge of the real world. Following is the user question: \" + question\n",
        "    response = tool.invoke({\"query\": complete_query})\n",
        "    #return {\"messages\": [response.content]}\n",
        "    content = str(response)\n",
        "    return {\"messages\": [content]}"
      ],
      "metadata": {
        "id": "R8IbsYuCC7cf"
      },
      "execution_count": 91,
      "outputs": []
    },
    {
      "cell_type": "code",
      "source": [
        "from langgraph.graph import StateGraph,END"
      ],
      "metadata": {
        "id": "pgzzkCsF-C9z"
      },
      "execution_count": 92,
      "outputs": []
    },
    {
      "cell_type": "code",
      "source": [
        "workflow=StateGraph(AgentState)"
      ],
      "metadata": {
        "id": "TGpkp4te-Exs"
      },
      "execution_count": 93,
      "outputs": []
    },
    {
      "cell_type": "code",
      "source": [
        "workflow.add_node(\"Supervisor\",function_1)"
      ],
      "metadata": {
        "colab": {
          "base_uri": "https://localhost:8080/"
        },
        "id": "moffWUE9-GHn",
        "outputId": "2b7fe52c-6f38-4dff-8aa0-6c18b04cf918"
      },
      "execution_count": 94,
      "outputs": [
        {
          "output_type": "execute_result",
          "data": {
            "text/plain": [
              "<langgraph.graph.state.StateGraph at 0x7e9495b854d0>"
            ]
          },
          "metadata": {},
          "execution_count": 94
        }
      ]
    },
    {
      "cell_type": "code",
      "source": [
        "workflow.add_node(\"RAG\",function_2)"
      ],
      "metadata": {
        "colab": {
          "base_uri": "https://localhost:8080/"
        },
        "id": "o5eXl3Nu-H-5",
        "outputId": "dcb19905-3287-4d07-c671-ea828d367b1a"
      },
      "execution_count": 95,
      "outputs": [
        {
          "output_type": "execute_result",
          "data": {
            "text/plain": [
              "<langgraph.graph.state.StateGraph at 0x7e9495b854d0>"
            ]
          },
          "metadata": {},
          "execution_count": 95
        }
      ]
    },
    {
      "cell_type": "code",
      "source": [
        "workflow.add_node(\"LLM\",function_3)"
      ],
      "metadata": {
        "colab": {
          "base_uri": "https://localhost:8080/"
        },
        "id": "vtk7YZSI-J14",
        "outputId": "3d28137c-cd33-4ab7-ece3-77a48c131583"
      },
      "execution_count": 96,
      "outputs": [
        {
          "output_type": "execute_result",
          "data": {
            "text/plain": [
              "<langgraph.graph.state.StateGraph at 0x7e9495b854d0>"
            ]
          },
          "metadata": {},
          "execution_count": 96
        }
      ]
    },
    {
      "cell_type": "code",
      "source": [
        "workflow.add_node(\"INTERNET\",function_4)"
      ],
      "metadata": {
        "colab": {
          "base_uri": "https://localhost:8080/"
        },
        "id": "hde9L65OFO3m",
        "outputId": "3b3874c6-662b-4555-cad7-4da47736a938"
      },
      "execution_count": 97,
      "outputs": [
        {
          "output_type": "execute_result",
          "data": {
            "text/plain": [
              "<langgraph.graph.state.StateGraph at 0x7e9495b854d0>"
            ]
          },
          "metadata": {},
          "execution_count": 97
        }
      ]
    },
    {
      "cell_type": "code",
      "source": [
        "workflow.set_entry_point(\"Supervisor\")"
      ],
      "metadata": {
        "colab": {
          "base_uri": "https://localhost:8080/"
        },
        "id": "l_UKzBtm-Ldj",
        "outputId": "b7bf1821-b6d4-4e80-97ec-93af0da7dac1"
      },
      "execution_count": 98,
      "outputs": [
        {
          "output_type": "execute_result",
          "data": {
            "text/plain": [
              "<langgraph.graph.state.StateGraph at 0x7e9495b854d0>"
            ]
          },
          "metadata": {},
          "execution_count": 98
        }
      ]
    },
    {
      "cell_type": "code",
      "source": [
        "workflow.add_conditional_edges(\n",
        "    \"Supervisor\",\n",
        "    router,\n",
        "    {\n",
        "        \"RAG Call\": \"RAG\",\n",
        "        \"LLM Call\": \"LLM\",\n",
        "        \"INTERNET Call\": \"INTERNET\",\n",
        "    }\n",
        ")"
      ],
      "metadata": {
        "colab": {
          "base_uri": "https://localhost:8080/"
        },
        "id": "LEjMn2LH-Nxh",
        "outputId": "0eefd1db-d2db-47cc-8014-b714b4a7e598"
      },
      "execution_count": 99,
      "outputs": [
        {
          "output_type": "execute_result",
          "data": {
            "text/plain": [
              "<langgraph.graph.state.StateGraph at 0x7e9495b854d0>"
            ]
          },
          "metadata": {},
          "execution_count": 99
        }
      ]
    },
    {
      "cell_type": "code",
      "source": [
        "workflow.add_edge(\"RAG\",END)\n",
        "workflow.add_edge(\"LLM\",END)\n",
        "workflow.add_edge(\"INTERNET\",END)"
      ],
      "metadata": {
        "colab": {
          "base_uri": "https://localhost:8080/"
        },
        "id": "LHZjux6M-P7g",
        "outputId": "bfc32bc6-d335-437b-e26f-f4d1f27a0212"
      },
      "execution_count": 100,
      "outputs": [
        {
          "output_type": "execute_result",
          "data": {
            "text/plain": [
              "<langgraph.graph.state.StateGraph at 0x7e9495b854d0>"
            ]
          },
          "metadata": {},
          "execution_count": 100
        }
      ]
    },
    {
      "cell_type": "code",
      "source": [
        "app=workflow.compile()"
      ],
      "metadata": {
        "id": "LSYNp7O5-R9c"
      },
      "execution_count": 101,
      "outputs": []
    },
    {
      "cell_type": "code",
      "source": [
        "state={\"messages\":[\"how is ooty weather\"]}"
      ],
      "metadata": {
        "id": "Afn9RHqg-T0s"
      },
      "execution_count": 102,
      "outputs": []
    },
    {
      "cell_type": "code",
      "source": [
        "app.invoke(state)"
      ],
      "metadata": {
        "id": "vrBIKOER-VjE"
      },
      "execution_count": null,
      "outputs": []
    },
    {
      "cell_type": "code",
      "source": [
        "state={\"messages\":[\"what is a gdp of usa?\"]}"
      ],
      "metadata": {
        "id": "KLVjOMoJ-XKv"
      },
      "execution_count": null,
      "outputs": []
    },
    {
      "cell_type": "code",
      "source": [
        "app.invoke(state)"
      ],
      "metadata": {
        "id": "BdFioOTz-aRd"
      },
      "execution_count": null,
      "outputs": []
    },
    {
      "cell_type": "code",
      "source": [
        "state={\"messages\":[\"can you tell me the industrial growth of world's most powerful economy?\"]}"
      ],
      "metadata": {
        "id": "o20UjPoj-csZ"
      },
      "execution_count": 82,
      "outputs": []
    },
    {
      "cell_type": "code",
      "source": [
        "state={\"messages\":[\"can you tell me the industrial growth of world's poor economy?\"]}"
      ],
      "metadata": {
        "id": "zu8M-vAG-fS2"
      },
      "execution_count": 83,
      "outputs": []
    },
    {
      "cell_type": "code",
      "source": [
        "result=app.invoke(state)"
      ],
      "metadata": {
        "id": "fBduVFs5-hNX"
      },
      "execution_count": null,
      "outputs": []
    },
    {
      "cell_type": "code",
      "source": [
        "result[\"messages\"][-1]"
      ],
      "metadata": {
        "id": "W8s83qR5-joY"
      },
      "execution_count": null,
      "outputs": []
    },
    {
      "cell_type": "code",
      "source": [
        "from IPython.display import Image, display"
      ],
      "metadata": {
        "id": "qFly50IM-lGK"
      },
      "execution_count": 114,
      "outputs": []
    },
    {
      "cell_type": "code",
      "source": [
        "display(Image(app.get_graph().draw_mermaid_png()))"
      ],
      "metadata": {
        "colab": {
          "base_uri": "https://localhost:8080/",
          "height": 374
        },
        "id": "LH75lCMl-nmS",
        "outputId": "f544aec4-4ea9-4201-cdc6-ff4ee76214f0"
      },
      "execution_count": 115,
      "outputs": [
        {
          "output_type": "display_data",
          "data": {
            "image/png": "[encoded data removed]",
            "text/plain": [
              "<IPython.core.display.Image object>"
            ]
          },
          "metadata": {}
        }
      ]
    }
  ]
}